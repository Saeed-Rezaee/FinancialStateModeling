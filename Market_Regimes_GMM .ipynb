{
 "cells": [
  {
   "cell_type": "markdown",
   "id": "53b78eec",
   "metadata": {},
   "source": [
    "# Using Gaussian Mixture Models to determine the number of states, given inputs such as retuen and range, to identify what regime the market is in. "
   ]
  },
  {
   "cell_type": "code",
   "execution_count": 49,
   "id": "b2ea36d1",
   "metadata": {},
   "outputs": [],
   "source": [
    "import pandas as pd\n",
    "import numpy as np\n",
    "import yfinance as yf\n",
    "yf.pdr_override() # <== that's all it takes :-)\n",
    "from pandas_datareader import data as pdr\n",
    "import matplotlib.pyplot as plt\n",
    "from sklearn.mixture import GaussianMixture\n",
    "from sklearn.metrics import silhouette_score\n"
   ]
  },
  {
   "cell_type": "code",
   "execution_count": 50,
   "id": "e22494d3",
   "metadata": {},
   "outputs": [
    {
     "name": "stdout",
     "output_type": "stream",
     "text": [
      "[*********************100%%**********************]  1 of 1 completed\n"
     ]
    }
   ],
   "source": [
    "# Extract data\n",
    "data = pdr.get_data_yahoo(\"AAPL\",\"2016-01-1\",\"2022-06-1\")\n",
    "data = data[[\"Open\", \"High\", \"Low\", \"Adj Close\", \"Volume\"]]"
   ]
  },
  {
   "cell_type": "code",
   "execution_count": 51,
   "id": "9729090d",
   "metadata": {},
   "outputs": [
    {
     "data": {
      "text/html": [
       "<div>\n",
       "<style scoped>\n",
       "    .dataframe tbody tr th:only-of-type {\n",
       "        vertical-align: middle;\n",
       "    }\n",
       "\n",
       "    .dataframe tbody tr th {\n",
       "        vertical-align: top;\n",
       "    }\n",
       "\n",
       "    .dataframe thead th {\n",
       "        text-align: right;\n",
       "    }\n",
       "</style>\n",
       "<table border=\"1\" class=\"dataframe\">\n",
       "  <thead>\n",
       "    <tr style=\"text-align: right;\">\n",
       "      <th></th>\n",
       "      <th>Open</th>\n",
       "      <th>High</th>\n",
       "      <th>Low</th>\n",
       "      <th>Adj Close</th>\n",
       "      <th>Volume</th>\n",
       "    </tr>\n",
       "    <tr>\n",
       "      <th>Date</th>\n",
       "      <th></th>\n",
       "      <th></th>\n",
       "      <th></th>\n",
       "      <th></th>\n",
       "      <th></th>\n",
       "    </tr>\n",
       "  </thead>\n",
       "  <tbody>\n",
       "    <tr>\n",
       "      <th>2016-01-04</th>\n",
       "      <td>25.652500</td>\n",
       "      <td>26.342501</td>\n",
       "      <td>25.500000</td>\n",
       "      <td>23.977472</td>\n",
       "      <td>270597600</td>\n",
       "    </tr>\n",
       "    <tr>\n",
       "      <th>2016-01-05</th>\n",
       "      <td>26.437500</td>\n",
       "      <td>26.462500</td>\n",
       "      <td>25.602501</td>\n",
       "      <td>23.376617</td>\n",
       "      <td>223164000</td>\n",
       "    </tr>\n",
       "    <tr>\n",
       "      <th>2016-01-06</th>\n",
       "      <td>25.139999</td>\n",
       "      <td>25.592501</td>\n",
       "      <td>24.967501</td>\n",
       "      <td>22.919138</td>\n",
       "      <td>273829600</td>\n",
       "    </tr>\n",
       "    <tr>\n",
       "      <th>2016-01-07</th>\n",
       "      <td>24.670000</td>\n",
       "      <td>25.032499</td>\n",
       "      <td>24.107500</td>\n",
       "      <td>21.951849</td>\n",
       "      <td>324377600</td>\n",
       "    </tr>\n",
       "    <tr>\n",
       "      <th>2016-01-08</th>\n",
       "      <td>24.637501</td>\n",
       "      <td>24.777500</td>\n",
       "      <td>24.190001</td>\n",
       "      <td>22.067928</td>\n",
       "      <td>283192000</td>\n",
       "    </tr>\n",
       "    <tr>\n",
       "      <th>...</th>\n",
       "      <td>...</td>\n",
       "      <td>...</td>\n",
       "      <td>...</td>\n",
       "      <td>...</td>\n",
       "      <td>...</td>\n",
       "    </tr>\n",
       "    <tr>\n",
       "      <th>2022-05-24</th>\n",
       "      <td>140.809998</td>\n",
       "      <td>141.970001</td>\n",
       "      <td>137.330002</td>\n",
       "      <td>139.155350</td>\n",
       "      <td>104132700</td>\n",
       "    </tr>\n",
       "    <tr>\n",
       "      <th>2022-05-25</th>\n",
       "      <td>138.429993</td>\n",
       "      <td>141.789993</td>\n",
       "      <td>138.339996</td>\n",
       "      <td>139.313995</td>\n",
       "      <td>92482700</td>\n",
       "    </tr>\n",
       "    <tr>\n",
       "      <th>2022-05-26</th>\n",
       "      <td>137.389999</td>\n",
       "      <td>144.339996</td>\n",
       "      <td>137.139999</td>\n",
       "      <td>142.546005</td>\n",
       "      <td>90601500</td>\n",
       "    </tr>\n",
       "    <tr>\n",
       "      <th>2022-05-27</th>\n",
       "      <td>145.389999</td>\n",
       "      <td>149.679993</td>\n",
       "      <td>145.259995</td>\n",
       "      <td>148.355728</td>\n",
       "      <td>90978500</td>\n",
       "    </tr>\n",
       "    <tr>\n",
       "      <th>2022-05-31</th>\n",
       "      <td>149.070007</td>\n",
       "      <td>150.660004</td>\n",
       "      <td>146.839996</td>\n",
       "      <td>147.562592</td>\n",
       "      <td>103718400</td>\n",
       "    </tr>\n",
       "  </tbody>\n",
       "</table>\n",
       "<p>1614 rows × 5 columns</p>\n",
       "</div>"
      ],
      "text/plain": [
       "                  Open        High         Low   Adj Close     Volume\n",
       "Date                                                                 \n",
       "2016-01-04   25.652500   26.342501   25.500000   23.977472  270597600\n",
       "2016-01-05   26.437500   26.462500   25.602501   23.376617  223164000\n",
       "2016-01-06   25.139999   25.592501   24.967501   22.919138  273829600\n",
       "2016-01-07   24.670000   25.032499   24.107500   21.951849  324377600\n",
       "2016-01-08   24.637501   24.777500   24.190001   22.067928  283192000\n",
       "...                ...         ...         ...         ...        ...\n",
       "2022-05-24  140.809998  141.970001  137.330002  139.155350  104132700\n",
       "2022-05-25  138.429993  141.789993  138.339996  139.313995   92482700\n",
       "2022-05-26  137.389999  144.339996  137.139999  142.546005   90601500\n",
       "2022-05-27  145.389999  149.679993  145.259995  148.355728   90978500\n",
       "2022-05-31  149.070007  150.660004  146.839996  147.562592  103718400\n",
       "\n",
       "[1614 rows x 5 columns]"
      ]
     },
     "execution_count": 51,
     "metadata": {},
     "output_type": "execute_result"
    }
   ],
   "source": [
    "data"
   ]
  },
  {
   "cell_type": "code",
   "execution_count": 52,
   "id": "de663500",
   "metadata": {},
   "outputs": [
    {
     "name": "stdout",
     "output_type": "stream",
     "text": [
      "<class 'pandas.core.frame.DataFrame'>\n",
      "DatetimeIndex: 1613 entries, 2016-01-05 to 2022-05-31\n",
      "Data columns (total 7 columns):\n",
      " #   Column     Non-Null Count  Dtype  \n",
      "---  ------     --------------  -----  \n",
      " 0   Open       1613 non-null   float64\n",
      " 1   High       1613 non-null   float64\n",
      " 2   Low        1613 non-null   float64\n",
      " 3   Adj Close  1613 non-null   float64\n",
      " 4   Volume     1613 non-null   int64  \n",
      " 5   Returns    1613 non-null   float64\n",
      " 6   Range      1613 non-null   float64\n",
      "dtypes: float64(6), int64(1)\n",
      "memory usage: 100.8 KB\n"
     ]
    },
    {
     "data": {
      "text/plain": [
       "None"
      ]
     },
     "metadata": {},
     "output_type": "display_data"
    }
   ],
   "source": [
    "# Add features \n",
    "df = data.copy()\n",
    "df[\"Returns\"] = (df[\"Adj Close\"] / df[\"Adj Close\"].shift(1)) - 1\n",
    "df[\"Range\"] = (df[\"High\"] / df[\"Low\"]) - 1\n",
    "df.dropna(inplace=True)\n",
    "display(df.info())"
   ]
  },
  {
   "cell_type": "code",
   "execution_count": 53,
   "id": "2261e045",
   "metadata": {},
   "outputs": [
    {
     "data": {
      "text/html": [
       "<div>\n",
       "<style scoped>\n",
       "    .dataframe tbody tr th:only-of-type {\n",
       "        vertical-align: middle;\n",
       "    }\n",
       "\n",
       "    .dataframe tbody tr th {\n",
       "        vertical-align: top;\n",
       "    }\n",
       "\n",
       "    .dataframe thead th {\n",
       "        text-align: right;\n",
       "    }\n",
       "</style>\n",
       "<table border=\"1\" class=\"dataframe\">\n",
       "  <thead>\n",
       "    <tr style=\"text-align: right;\">\n",
       "      <th></th>\n",
       "      <th>Returns</th>\n",
       "      <th>Range</th>\n",
       "    </tr>\n",
       "    <tr>\n",
       "      <th>Date</th>\n",
       "      <th></th>\n",
       "      <th></th>\n",
       "    </tr>\n",
       "  </thead>\n",
       "  <tbody>\n",
       "    <tr>\n",
       "      <th>2016-01-05</th>\n",
       "      <td>-0.025059</td>\n",
       "      <td>0.033590</td>\n",
       "    </tr>\n",
       "    <tr>\n",
       "      <th>2016-01-06</th>\n",
       "      <td>-0.019570</td>\n",
       "      <td>0.025033</td>\n",
       "    </tr>\n",
       "    <tr>\n",
       "      <th>2016-01-07</th>\n",
       "      <td>-0.042204</td>\n",
       "      <td>0.038370</td>\n",
       "    </tr>\n",
       "    <tr>\n",
       "      <th>2016-01-08</th>\n",
       "      <td>0.005288</td>\n",
       "      <td>0.024287</td>\n",
       "    </tr>\n",
       "    <tr>\n",
       "      <th>2016-01-11</th>\n",
       "      <td>0.016192</td>\n",
       "      <td>0.017670</td>\n",
       "    </tr>\n",
       "  </tbody>\n",
       "</table>\n",
       "</div>"
      ],
      "text/plain": [
       "             Returns     Range\n",
       "Date                          \n",
       "2016-01-05 -0.025059  0.033590\n",
       "2016-01-06 -0.019570  0.025033\n",
       "2016-01-07 -0.042204  0.038370\n",
       "2016-01-08  0.005288  0.024287\n",
       "2016-01-11  0.016192  0.017670"
      ]
     },
     "execution_count": 53,
     "metadata": {},
     "output_type": "execute_result"
    }
   ],
   "source": [
    "X_train = df[[\"Returns\", \"Range\"]]\n",
    "X_train.head()"
   ]
  },
  {
   "cell_type": "code",
   "execution_count": 54,
   "id": "a61685e2",
   "metadata": {},
   "outputs": [
    {
     "data": {
      "text/plain": [
       "GaussianMixture(covariance_type='tied', n_components=4)"
      ]
     },
     "execution_count": 54,
     "metadata": {},
     "output_type": "execute_result"
    }
   ],
   "source": [
    "# train Gaussian Model\n",
    "model = GaussianMixture(n_components=4, covariance_type='tied')\n",
    "model.fit(np.array(X_train.values))"
   ]
  },
  {
   "cell_type": "code",
   "execution_count": 55,
   "id": "bf14dfd3",
   "metadata": {},
   "outputs": [
    {
     "name": "stdout",
     "output_type": "stream",
     "text": [
      "[2 0 2 0 0 0 2 3 2 0 2 0 3 0 0 2 0 0 0 0 0 0 2 0 0 0 0 0 0 0 2 0 0 0 0 0 0\n",
      " 0 3 0]\n"
     ]
    },
    {
     "data": {
      "text/plain": [
       "1613"
      ]
     },
     "execution_count": 55,
     "metadata": {},
     "output_type": "execute_result"
    }
   ],
   "source": [
    "states = model.predict(X_train.values)\n",
    "print(states[:40])\n",
    "len(states)"
   ]
  },
  {
   "cell_type": "code",
   "execution_count": 56,
   "id": "18b7dfdd",
   "metadata": {},
   "outputs": [
    {
     "name": "stdout",
     "output_type": "stream",
     "text": [
      "Correct number of rows:  True\n"
     ]
    }
   ],
   "source": [
    "prices = df[\"Adj Close\"].values.astype(float)\n",
    "print(\"Correct number of rows: \", len(prices) == len(states))\n",
    "\n",
    "labels = [[float('nan')] * len(states) for _ in range(4)]\n",
    "\n",
    "for i, state in enumerate(states):\n",
    "    if 0 <= state <= 3:\n",
    "        labels[state][i] = prices[i]\n",
    "\n",
    "labels_0, labels_1, labels_2, labels_3 = labels"
   ]
  },
  {
   "cell_type": "code",
   "execution_count": 57,
   "id": "c7dcf4e3",
   "metadata": {},
   "outputs": [
    {
     "data": {
      "image/png": "[encoded data removed]",
      "text/plain": [
       "<Figure size 1296x576 with 1 Axes>"
      ]
     },
     "metadata": {
      "needs_background": "light"
     },
     "output_type": "display_data"
    }
   ],
   "source": [
    "import matplotlib.pyplot as plt\n",
    "\n",
    "\n",
    "fig = plt.figure(figsize=(18, 8))\n",
    "\n",
    "plt.plot(labels_0, color=\"black\", linewidth=3, label='Label 0')\n",
    "plt.plot(labels_1, color=\"red\", linewidth=3, label='Label 1') \n",
    "plt.plot(labels_2, color=\"blue\", linewidth=3, label='Label 2')  \n",
    "plt.plot(labels_3, color=\"green\", linewidth=3, label='Label 3')  \n",
    "\n",
    "plt.title('Market Regime identification', fontsize=16)\n",
    "plt.xlabel('Time', fontsize=15)\n",
    "plt.ylabel('Prices', fontsize=15)\n",
    "plt.tick_params(axis='x', labelsize=15)\n",
    "plt.tick_params(axis='y', labelsize=15)\n",
    "plt.legend(fontsize=15)\n",
    "plt.grid(True)\n",
    "plt.show()\n"
   ]
  },
  {
   "cell_type": "markdown",
   "id": "5c4c3f52",
   "metadata": {},
   "source": [
    "# evaluation"
   ]
  },
  {
   "cell_type": "code",
   "execution_count": 58,
   "id": "1fd22fd0",
   "metadata": {},
   "outputs": [
    {
     "name": "stdout",
     "output_type": "stream",
     "text": [
      "[*********************100%%**********************]  1 of 1 completed\n",
      "<class 'pandas.core.frame.DataFrame'>\n",
      "DatetimeIndex: 249 entries, 2022-06-03 to 2023-05-31\n",
      "Data columns (total 7 columns):\n",
      " #   Column     Non-Null Count  Dtype  \n",
      "---  ------     --------------  -----  \n",
      " 0   Open       249 non-null    float64\n",
      " 1   High       249 non-null    float64\n",
      " 2   Low        249 non-null    float64\n",
      " 3   Adj Close  249 non-null    float64\n",
      " 4   Volume     249 non-null    int64  \n",
      " 5   Returns    249 non-null    float64\n",
      " 6   Range      249 non-null    float64\n",
      "dtypes: float64(6), int64(1)\n",
      "memory usage: 15.6 KB\n"
     ]
    },
    {
     "data": {
      "text/plain": [
       "None"
      ]
     },
     "metadata": {},
     "output_type": "display_data"
    }
   ],
   "source": [
    "#Test Data\n",
    "# Extract data\n",
    "data_test = pdr.get_data_yahoo(\"AAPL\",\"2022-06-2\",\"2023-06-1\")\n",
    "data_test = data_test[[\"Open\", \"High\", \"Low\", \"Adj Close\", \"Volume\"]]\n",
    "\n",
    "# Add features \n",
    "df_test = data_test.copy()\n",
    "df_test[\"Returns\"] = (df_test[\"Adj Close\"] / df_test[\"Adj Close\"].shift(1)) - 1\n",
    "df_test[\"Range\"] = (df_test[\"High\"] / df_test[\"Low\"]) - 1\n",
    "df_test.dropna(inplace=True)\n",
    "display(df_test.info())"
   ]
  },
  {
   "cell_type": "code",
   "execution_count": 59,
   "id": "fcb340f4",
   "metadata": {},
   "outputs": [
    {
     "data": {
      "text/html": [
       "<div>\n",
       "<style scoped>\n",
       "    .dataframe tbody tr th:only-of-type {\n",
       "        vertical-align: middle;\n",
       "    }\n",
       "\n",
       "    .dataframe tbody tr th {\n",
       "        vertical-align: top;\n",
       "    }\n",
       "\n",
       "    .dataframe thead th {\n",
       "        text-align: right;\n",
       "    }\n",
       "</style>\n",
       "<table border=\"1\" class=\"dataframe\">\n",
       "  <thead>\n",
       "    <tr style=\"text-align: right;\">\n",
       "      <th></th>\n",
       "      <th>Returns</th>\n",
       "      <th>Range</th>\n",
       "    </tr>\n",
       "    <tr>\n",
       "      <th>Date</th>\n",
       "      <th></th>\n",
       "      <th></th>\n",
       "    </tr>\n",
       "  </thead>\n",
       "  <tbody>\n",
       "    <tr>\n",
       "      <th>2022-06-03</th>\n",
       "      <td>-0.038556</td>\n",
       "      <td>0.024297</td>\n",
       "    </tr>\n",
       "    <tr>\n",
       "      <th>2022-06-06</th>\n",
       "      <td>0.005228</td>\n",
       "      <td>0.025328</td>\n",
       "    </tr>\n",
       "    <tr>\n",
       "      <th>2022-06-07</th>\n",
       "      <td>0.017586</td>\n",
       "      <td>0.034004</td>\n",
       "    </tr>\n",
       "    <tr>\n",
       "      <th>2022-06-08</th>\n",
       "      <td>-0.005043</td>\n",
       "      <td>0.016343</td>\n",
       "    </tr>\n",
       "    <tr>\n",
       "      <th>2022-06-09</th>\n",
       "      <td>-0.035956</td>\n",
       "      <td>0.038027</td>\n",
       "    </tr>\n",
       "  </tbody>\n",
       "</table>\n",
       "</div>"
      ],
      "text/plain": [
       "             Returns     Range\n",
       "Date                          \n",
       "2022-06-03 -0.038556  0.024297\n",
       "2022-06-06  0.005228  0.025328\n",
       "2022-06-07  0.017586  0.034004\n",
       "2022-06-08 -0.005043  0.016343\n",
       "2022-06-09 -0.035956  0.038027"
      ]
     },
     "execution_count": 59,
     "metadata": {},
     "output_type": "execute_result"
    }
   ],
   "source": [
    "X_test = df_test[[\"Returns\", \"Range\"]]\n",
    "X_test.head()"
   ]
  },
  {
   "cell_type": "code",
   "execution_count": 60,
   "id": "78b5ea8c",
   "metadata": {},
   "outputs": [
    {
     "name": "stderr",
     "output_type": "stream",
     "text": [
      "/opt/anaconda3/lib/python3.7/site-packages/sklearn/base.py:444: UserWarning: X has feature names, but GaussianMixture was fitted without feature names\n",
      "  f\"X has feature names, but {self.__class__.__name__} was fitted without\"\n"
     ]
    },
    {
     "data": {
      "image/png": "[encoded data removed]",
      "text/plain": [
       "<Figure size 432x288 with 2 Axes>"
      ]
     },
     "metadata": {
      "needs_background": "light"
     },
     "output_type": "display_data"
    },
    {
     "name": "stdout",
     "output_type": "stream",
     "text": [
      "Silhouette Score: 0.3879042820420116\n"
     ]
    }
   ],
   "source": [
    "labels_test = model.predict(X_test)\n",
    "\n",
    "# Calculating silhouette score\n",
    "silhouette = silhouette_score(X_test, labels_test)\n",
    "\n",
    "# Plotting\n",
    "plt.scatter(X_test['Returns'], X_test['Range'], c=labels_test, cmap='viridis', marker='o')\n",
    "plt.title('GMM Clustering of Market Data')\n",
    "plt.xlabel('Returns')\n",
    "plt.ylabel('Range')\n",
    "plt.colorbar(label='Cluster Label')\n",
    "plt.show()\n",
    "\n",
    "print(\"Silhouette Score:\", silhouette)"
   ]
  },
  {
   "cell_type": "code",
   "execution_count": null,
   "id": "1ed2cddf",
   "metadata": {},
   "outputs": [],
   "source": []
  }
 ],
 "metadata": {
  "kernelspec": {
   "display_name": "Python 3 (ipykernel)",
   "language": "python",
   "name": "python3"
  },
  "language_info": {
   "codemirror_mode": {
    "name": "ipython",
    "version": 3
   },
   "file_extension": ".py",
   "mimetype": "text/x-python",
   "name": "python",
   "nbconvert_exporter": "python",
   "pygments_lexer": "ipython3",
   "version": "3.7.10"
  }
 },
 "nbformat": 4,
 "nbformat_minor": 5
}
